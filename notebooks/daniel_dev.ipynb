{
 "cells": [
  {
   "cell_type": "code",
   "execution_count": 1,
   "metadata": {},
   "outputs": [],
   "source": [
    "import re\n",
    "import nlp516\n",
    "import nlp516.model\n",
    "import nltk\n",
    "import numpy as np\n",
    "import pandas as pd\n",
    "from sklearn.feature_extraction.text import CountVectorizer\n",
    "\n"
   ]
  },
  {
   "cell_type": "markdown",
   "metadata": {},
   "source": [
    "## Dataset"
   ]
  },
  {
   "cell_type": "code",
   "execution_count": 2,
   "metadata": {},
   "outputs": [],
   "source": [
    "dataset = nlp516.data.PublicTrialRaw()"
   ]
  },
  {
   "cell_type": "markdown",
   "metadata": {},
   "source": [
    "# Preprocessing"
   ]
  },
  {
   "cell_type": "code",
   "execution_count": 3,
   "metadata": {},
   "outputs": [],
   "source": [
    "tokenizer_map = nlp516.data.Tokenizer('english')\n",
    "stopwords_map = nlp516.data.RemoveStopWords('english')\n",
    "stemmer_map = nlp516.data.Stemmer('english')\n",
    "\n",
    "\n",
    "en = nlp516.data.map_column(dataset.en, 'text', nlp516.data.remove_urls_map)\n",
    "#en = nlp516.data.map_column(dataset.en, 'text', nlp516.data.casual_tokenize_map)\n",
    "en = nlp516.data.map_column(en, 'text', tokenizer_map)\n",
    "en = nlp516.data.map_column(en, 'text', nlp516.data.user_camelcase_map)\n",
    "en = nlp516.data.map_column(en, 'text', nlp516.data.hashtag_camelcase_map)\n",
    "en = nlp516.data.map_column(en, 'text', nlp516.data.to_lowercase)\n",
    "en = nlp516.data.map_column(en, 'text', stopwords_map)\n",
    "en = nlp516.data.map_column(en, 'text', stemmer_map)\n",
    "en = nlp516.data.map_column(en, 'text', nlp516.data.remove_words_with_numbers)\n"
   ]
  },
  {
   "cell_type": "code",
   "execution_count": 4,
   "metadata": {},
   "outputs": [
    {
     "name": "stdout",
     "output_type": "stream",
     "text": [
      "Original: My sister it's #NoBraDay to raise cancer awareness not for you to hoe 😅\n",
      "Tokens: ['sister', 'bra', 'day', 'rais', 'cancer', 'awar', 'hoe', '😅']\n"
     ]
    }
   ],
   "source": [
    "print('Original: {}'.format(dataset.en.iloc[25].text))\n",
    "print('Tokens: {}'.format(en.iloc[25].text))"
   ]
  },
  {
   "cell_type": "code",
   "execution_count": 5,
   "metadata": {},
   "outputs": [
    {
     "name": "stdout",
     "output_type": "stream",
     "text": [
      "Original: @ArianasBotch Ok if you fucking said leave block me. But dm me first I'm gonna kick your ass. Shut the fuck up you https://t.co/6BXkfxMEf9\n",
      "Tokens: ['ariana', 'botch', 'ok', 'fuck', 'said', 'leav', 'block', '.', 'dm', 'first', \"i'm\", 'gonna', 'kick', 'ass', '.', 'shut', 'fuck']\n"
     ]
    }
   ],
   "source": [
    "print('Original: {}'.format(dataset.en.iloc[1].text))\n",
    "print('Tokens: {}'.format(en.iloc[1].text))"
   ]
  },
  {
   "cell_type": "code",
   "execution_count": 6,
   "metadata": {},
   "outputs": [
    {
     "name": "stdout",
     "output_type": "stream",
     "text": [
      "Original: I love my religious brothers and sisters, but @realDonaldTrump, FUCK YOU, YOU'RE NOT EVEN A REAL THEOCRAT YOU FAT USLESS BITCH.\n",
      "Tokens: ['love', 'religi', 'brother', 'sister', ',', 'real', 'donald', 'trump', ',', 'fuck', ',', 'even', 'real', 'theocrat', 'fat', 'usless', 'bitch', '.']\n"
     ]
    }
   ],
   "source": [
    "print('Original: {}'.format(dataset.en.iloc[26].text))\n",
    "print('Tokens: {}'.format(en.iloc[26].text))"
   ]
  },
  {
   "cell_type": "markdown",
   "metadata": {},
   "source": [
    "## Train"
   ]
  },
  {
   "cell_type": "code",
   "execution_count": 7,
   "metadata": {},
   "outputs": [],
   "source": [
    "import sklearn.linear_model"
   ]
  },
  {
   "cell_type": "code",
   "execution_count": 8,
   "metadata": {},
   "outputs": [],
   "source": [
    "def random_shuffle(data):\n",
    "    idx = np.arange(en.shape[0])\n",
    "    shuffle = np.random.shuffle(idx)\n",
    "    return data.iloc[idx, :]\n",
    "dataset = random_shuffle(en)\n",
    "train = dataset[:50]\n",
    "test = dataset[50:]"
   ]
  },
  {
   "cell_type": "code",
   "execution_count": 9,
   "metadata": {},
   "outputs": [
    {
     "name": "stdout",
     "output_type": "stream",
     "text": [
      "score: 0.92\n",
      "test: 0.74\n"
     ]
    },
    {
     "name": "stderr",
     "output_type": "stream",
     "text": [
      "/home/marinodl/Documents/classes/nlp/project/hate-detector/env/lib/python3.5/site-packages/sklearn/linear_model/logistic.py:432: FutureWarning: Default solver will be changed to 'lbfgs' in 0.22. Specify a solver to silence this warning.\n",
      "  FutureWarning)\n"
     ]
    }
   ],
   "source": [
    "model = nlp516.model.MlModel(50)\n",
    "model.fit(train.text, train.HS)\n",
    "print('test: {}'.format(model.score(test.text, test.HS)))"
   ]
  },
  {
   "cell_type": "code",
   "execution_count": 10,
   "metadata": {},
   "outputs": [
    {
     "name": "stderr",
     "output_type": "stream",
     "text": [
      "/home/marinodl/Documents/classes/nlp/project/hate-detector/env/lib/python3.5/site-packages/sklearn/linear_model/logistic.py:432: FutureWarning: Default solver will be changed to 'lbfgs' in 0.22. Specify a solver to silence this warning.\n",
      "  FutureWarning)\n"
     ]
    },
    {
     "name": "stdout",
     "output_type": "stream",
     "text": [
      "score: 0.9\n",
      "test: 0.88\n"
     ]
    }
   ],
   "source": [
    "model = nlp516.model.MlModel(50)\n",
    "model.fit(train.text, train.TR)\n",
    "print('test: {}'.format(model.score(test.text, test.TR)))"
   ]
  },
  {
   "cell_type": "code",
   "execution_count": 11,
   "metadata": {},
   "outputs": [
    {
     "name": "stderr",
     "output_type": "stream",
     "text": [
      "/home/marinodl/Documents/classes/nlp/project/hate-detector/env/lib/python3.5/site-packages/sklearn/linear_model/logistic.py:432: FutureWarning: Default solver will be changed to 'lbfgs' in 0.22. Specify a solver to silence this warning.\n",
      "  FutureWarning)\n"
     ]
    },
    {
     "name": "stdout",
     "output_type": "stream",
     "text": [
      "score: 0.86\n",
      "test: 0.8\n"
     ]
    }
   ],
   "source": [
    "model = nlp516.model.MlModel(50)\n",
    "model.fit(train.text, train.AG)\n",
    "print('test: {}'.format(model.score(test.text, test.AG)))"
   ]
  },
  {
   "cell_type": "code",
   "execution_count": 12,
   "metadata": {},
   "outputs": [],
   "source": [
    "#[model.vectorizer.id2word(id) for id in model.vectorizer.feature_id]"
   ]
  },
  {
   "cell_type": "code",
   "execution_count": 13,
   "metadata": {},
   "outputs": [
    {
     "data": {
      "text/plain": [
       "0.8"
      ]
     },
     "execution_count": 13,
     "metadata": {},
     "output_type": "execute_result"
    }
   ],
   "source": [
    "1-test.AG.mean()"
   ]
  },
  {
   "cell_type": "code",
   "execution_count": null,
   "metadata": {},
   "outputs": [],
   "source": []
  },
  {
   "cell_type": "code",
   "execution_count": null,
   "metadata": {},
   "outputs": [],
   "source": []
  },
  {
   "cell_type": "code",
   "execution_count": null,
   "metadata": {},
   "outputs": [],
   "source": []
  },
  {
   "cell_type": "code",
   "execution_count": null,
   "metadata": {},
   "outputs": [],
   "source": []
  },
  {
   "cell_type": "code",
   "execution_count": null,
   "metadata": {},
   "outputs": [],
   "source": []
  },
  {
   "cell_type": "code",
   "execution_count": null,
   "metadata": {},
   "outputs": [],
   "source": []
  }
 ],
 "metadata": {
  "kernelspec": {
   "display_name": "Python 3",
   "language": "python",
   "name": "python3"
  },
  "language_info": {
   "codemirror_mode": {
    "name": "ipython",
    "version": 3
   },
   "file_extension": ".py",
   "mimetype": "text/x-python",
   "name": "python",
   "nbconvert_exporter": "python",
   "pygments_lexer": "ipython3",
   "version": "3.5.2"
  }
 },
 "nbformat": 4,
 "nbformat_minor": 2
}
