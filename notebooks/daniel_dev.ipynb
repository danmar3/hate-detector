{
 "cells": [
  {
   "cell_type": "code",
   "execution_count": 1,
   "metadata": {},
   "outputs": [],
   "source": [
    "import re\n",
    "import nlp516\n",
    "import nlp516.model\n",
    "import nltk\n",
    "import numpy as np\n",
    "import pandas as pd\n",
    "import sklearn\n",
    "from types import SimpleNamespace\n",
    "from sklearn.feature_extraction.text import CountVectorizer"
   ]
  },
  {
   "cell_type": "markdown",
   "metadata": {},
   "source": [
    "## Dataset"
   ]
  },
  {
   "cell_type": "code",
   "execution_count": 4,
   "metadata": {},
   "outputs": [],
   "source": [
    "#dataset = nlp516.data.PublicTrialRaw()\n",
    "language = 'english'\n",
    "if language == 'spanish':\n",
    "    raw = nlp516.data.PublicSpanishDataset()\n",
    "elif language=='english':\n",
    "    raw = nlp516.data.PublicEnglishDataset()"
   ]
  },
  {
   "cell_type": "markdown",
   "metadata": {},
   "source": [
    "# Preprocessing"
   ]
  },
  {
   "cell_type": "code",
   "execution_count": 5,
   "metadata": {},
   "outputs": [],
   "source": [
    "tokenizer_map = nlp516.data.Tokenizer('english')\n",
    "stopwords_map = nlp516.data.RemoveStopWords(language)\n",
    "stemmer_map = nlp516.data.Stemmer(language)\n",
    "\n",
    "def preprocess(dataset):\n",
    "    def run(data):\n",
    "        data = nlp516.data.map_column(data, 'text', nlp516.data.remove_urls_map)\n",
    "        #en = nlp516.data.map_column(dataset.en, 'text', nlp516.data.casual_tokenize_map)\n",
    "        data = nlp516.data.map_column(data, 'text', tokenizer_map)\n",
    "        data = nlp516.data.map_column(data, 'text', nlp516.data.user_camelcase_map)\n",
    "        data = nlp516.data.map_column(data, 'text', nlp516.data.hashtag_camelcase_map)\n",
    "        data = nlp516.data.map_column(data, 'text', nlp516.data.to_lowercase)\n",
    "        data = nlp516.data.map_column(data, 'text', stopwords_map)\n",
    "        #data = nlp516.data.map_column(data, 'text', stemmer_map)\n",
    "        data = nlp516.data.map_column(data, 'text', nlp516.data.remove_words_with_numbers)\n",
    "        data = nlp516.data.map_column(data, 'text', nlp516.data.remove_punctuation)\n",
    "        return data\n",
    "    return SimpleNamespace(train = run(dataset.train),\n",
    "                           valid = run(dataset.valid))\n",
    "dataset = preprocess(raw)"
   ]
  },
  {
   "cell_type": "code",
   "execution_count": 6,
   "metadata": {},
   "outputs": [
    {
     "name": "stdout",
     "output_type": "stream",
     "text": [
      "Original: @WattersWorld @JesseBWatters @BillSpadea How about discussing this? #JoeBiden's \"black box\" of American success. #WhiteGenocide #ImmigrationInvasion #JesseWatters #WatersWorldhttps://t.co/k8bWjj7tnp\n",
      "Tokens: ['watters', 'world', 'jesse', 'b', 'watters', 'bill', 'spadea', 'discussing', 'joe', 'bidens', 'black', 'box', 'american', 'success', 'white', 'genocide', 'immigration', 'invasion', 'jesse', 'watters', 'waters', 'world']\n"
     ]
    }
   ],
   "source": [
    "print('Original: {}'.format(raw.train.iloc[25].text))\n",
    "print('Tokens: {}'.format(dataset.train.iloc[25].text))"
   ]
  },
  {
   "cell_type": "code",
   "execution_count": 7,
   "metadata": {},
   "outputs": [
    {
     "name": "stdout",
     "output_type": "stream",
     "text": [
      "Original: Why would young fighting age men be the vast majority of the ones escaping a war &amp; not those who cannot fight like women, children, and the elderly?It's because the majority of the refugees are not actually refugees they are economic migrants trying to get into Europe.... https://t.co/Ks0SHbtYqn\n",
      "Tokens: ['would', 'young', 'fighting', 'age', 'men', 'vast', 'majority', 'ones', 'escaping', 'war', 'cannot', 'fight', 'like', 'women', 'children', 'elderly', 'majority', 'refugees', 'actually', 'refugees', 'economic', 'migrants', 'trying', 'get', 'europe']\n"
     ]
    }
   ],
   "source": [
    "print('Original: {}'.format(raw.train.iloc[1].text))\n",
    "print('Tokens: {}'.format(dataset.train.iloc[1].text))"
   ]
  },
  {
   "cell_type": "code",
   "execution_count": 8,
   "metadata": {},
   "outputs": [
    {
     "name": "stdout",
     "output_type": "stream",
     "text": [
      "Original: It is a cruel irony that sikhs often **look** more exotic to American eyes, even though they tend to be among the most deeply assimilated of immigrant groups. of course the people they're mistaken for also don't deserve to be attacked. https://t.co/57NitaFqce\n",
      "Tokens: ['cruel', 'irony', 'sikhs', 'often', 'look', 'exotic', 'american', 'eyes', 'even', 'though', 'tend', 'among', 'deeply', 'assimilated', 'immigrant', 'groups', 'course', 'people', 'theyre', 'mistaken', 'also', 'deserve', 'attacked']\n"
     ]
    }
   ],
   "source": [
    "print('Original: {}'.format(raw.train.iloc[26].text))\n",
    "print('Tokens: {}'.format(dataset.train.iloc[26].text))"
   ]
  },
  {
   "cell_type": "markdown",
   "metadata": {},
   "source": [
    "## Train"
   ]
  },
  {
   "cell_type": "code",
   "execution_count": 9,
   "metadata": {},
   "outputs": [],
   "source": [
    "#def random_shuffle(data):\n",
    "#    idx = np.arange(en.shape[0])\n",
    "#    shuffle = np.random.shuffle(idx)\n",
    "#    return data.iloc[idx, :]\n",
    "#dataset = random_shuffle(en)\n",
    "train = dataset.train\n",
    "test = dataset.valid"
   ]
  },
  {
   "cell_type": "code",
   "execution_count": 10,
   "metadata": {},
   "outputs": [
    {
     "name": "stdout",
     "output_type": "stream",
     "text": [
      "score: 0.7616666666666667\n",
      "test: 0.708\n"
     ]
    }
   ],
   "source": [
    "model = nlp516.model.SVMModel(100)\n",
    "model.fit(dataset.train.text, dataset.train.HS)\n",
    "print('test: {}'.format(model.score(dataset.valid.text, dataset.valid.HS)))"
   ]
  },
  {
   "cell_type": "code",
   "execution_count": 11,
   "metadata": {},
   "outputs": [
    {
     "name": "stdout",
     "output_type": "stream",
     "text": [
      "score: 0.8845555555555555\n",
      "test: 0.822\n"
     ]
    }
   ],
   "source": [
    "model = nlp516.model.SVMModel(100)\n",
    "model.fit(dataset.train.text, train.TR)\n",
    "print('test: {}'.format(model.score(dataset.valid.text, dataset.valid.TR)))"
   ]
  },
  {
   "cell_type": "code",
   "execution_count": 12,
   "metadata": {},
   "outputs": [
    {
     "name": "stdout",
     "output_type": "stream",
     "text": [
      "score: 0.8451111111111111\n",
      "test: 0.803\n"
     ]
    }
   ],
   "source": [
    "model = nlp516.model.SVMModel(100)\n",
    "model.fit(dataset.train.text, dataset.train.AG)\n",
    "print('test: {}'.format(model.score(dataset.valid.text, dataset.valid.AG)))"
   ]
  },
  {
   "cell_type": "code",
   "execution_count": 13,
   "metadata": {},
   "outputs": [],
   "source": [
    "#[model.vectorizer.id2word(id) for id in model.vectorizer.feature_id]"
   ]
  },
  {
   "cell_type": "code",
   "execution_count": 14,
   "metadata": {},
   "outputs": [],
   "source": [
    "model = nlp516.model.MajorityBaseline()"
   ]
  },
  {
   "cell_type": "code",
   "execution_count": 15,
   "metadata": {},
   "outputs": [
    {
     "name": "stdout",
     "output_type": "stream",
     "text": [
      "score: 0.8266666666666667\n"
     ]
    }
   ],
   "source": [
    "model.fit(dataset.train.text, dataset.train.AG)"
   ]
  },
  {
   "cell_type": "code",
   "execution_count": 16,
   "metadata": {},
   "outputs": [
    {
     "name": "stderr",
     "output_type": "stream",
     "text": [
      "/home/marinodl/Documents/classes/nlp/project/hate-detector/env/lib/python3.5/site-packages/sklearn/metrics/classification.py:1143: UndefinedMetricWarning: Precision is ill-defined and being set to 0.0 due to no predicted samples.\n",
      "  'precision', 'predicted', average, warn_for)\n"
     ]
    },
    {
     "data": {
      "text/plain": [
       "0.0"
      ]
     },
     "execution_count": 16,
     "metadata": {},
     "output_type": "execute_result"
    }
   ],
   "source": [
    "model.precision_score(dataset.train.text, dataset.train.AG)"
   ]
  },
  {
   "cell_type": "code",
   "execution_count": null,
   "metadata": {},
   "outputs": [],
   "source": []
  },
  {
   "cell_type": "code",
   "execution_count": 27,
   "metadata": {},
   "outputs": [],
   "source": [
    "import sklearn.tree\n",
    "import sklearn.naive_bayes"
   ]
  },
  {
   "cell_type": "code",
   "execution_count": 28,
   "metadata": {},
   "outputs": [],
   "source": [
    "import itertools\n",
    "def subtask_dataset(dataset, task):\n",
    "    train = SimpleNamespace(x=dataset.train.text,\n",
    "                                y=getattr(dataset.train, task))\n",
    "    valid = SimpleNamespace(x=dataset.valid.text,\n",
    "                            y=getattr(dataset.valid, task))\n",
    "    return SimpleNamespace(train=train, valid=valid)\n",
    "\n",
    "def eval_metrics(model, dataset):\n",
    "    model.fit(dataset.train.x, dataset.train.y)\n",
    "    return {'accuracy': model.score(dataset.valid.x, dataset.valid.y),\n",
    "            'precision': model.precision_score(dataset.valid.x, dataset.valid.y),\n",
    "            'recall': model.recall_score(dataset.valid.x, dataset.valid.y),\n",
    "            'f1': model.f1_score(dataset.valid.x, dataset.valid.y)}\n",
    "\n",
    "def instantiate_models(classifiers, vectorizers):\n",
    "    models = {('MajorityBaseline', '-'): nlp516.model.MajorityBaseline()}\n",
    "    models.update(\n",
    "        {(c, v): nlp516.model.MlModel(classifier=classifiers[c](), \n",
    "                                      vectorizer=vectorizers[v]())\n",
    "         for c, v in itertools.product(classifiers.keys(), vectorizers.keys())\n",
    "        }\n",
    "    )\n",
    "    return models\n",
    "\n",
    "def eval_models(classifiers, vectorizers, task, dataset):\n",
    "    models = instantiate_models(classifiers, vectorizers)\n",
    "    results = {key: eval_metrics(model, dataset=subtask_dataset(dataset, task))\n",
    "               for key, model in models.items()}\n",
    "    return pd.DataFrame(results).transpose()\n",
    "\n"
   ]
  },
  {
   "cell_type": "code",
   "execution_count": 33,
   "metadata": {},
   "outputs": [
    {
     "name": "stdout",
     "output_type": "stream",
     "text": [
      "score: 0.9711111111111111\n",
      "score: 0.8266666666666667\n"
     ]
    },
    {
     "name": "stderr",
     "output_type": "stream",
     "text": [
      "/home/marinodl/Documents/classes/nlp/project/hate-detector/env/lib/python3.5/site-packages/sklearn/metrics/classification.py:1143: UndefinedMetricWarning: Precision is ill-defined and being set to 0.0 due to no predicted samples.\n",
      "  'precision', 'predicted', average, warn_for)\n",
      "/home/marinodl/Documents/classes/nlp/project/hate-detector/env/lib/python3.5/site-packages/sklearn/metrics/classification.py:1143: UndefinedMetricWarning: F-score is ill-defined and being set to 0.0 due to no predicted samples.\n",
      "  'precision', 'predicted', average, warn_for)\n"
     ]
    },
    {
     "name": "stdout",
     "output_type": "stream",
     "text": [
      "score: 0.966\n"
     ]
    },
    {
     "name": "stderr",
     "output_type": "stream",
     "text": [
      "/home/marinodl/Documents/classes/nlp/project/hate-detector/env/lib/python3.5/site-packages/sklearn/linear_model/logistic.py:432: FutureWarning: Default solver will be changed to 'lbfgs' in 0.22. Specify a solver to silence this warning.\n",
      "  FutureWarning)\n"
     ]
    },
    {
     "name": "stdout",
     "output_type": "stream",
     "text": [
      "score: 0.8428888888888889\n",
      "score: 0.783\n",
      "score: 0.7743333333333333\n"
     ]
    },
    {
     "name": "stderr",
     "output_type": "stream",
     "text": [
      "/home/marinodl/Documents/classes/nlp/project/hate-detector/env/lib/python3.5/site-packages/sklearn/linear_model/logistic.py:432: FutureWarning: Default solver will be changed to 'lbfgs' in 0.22. Specify a solver to silence this warning.\n",
      "  FutureWarning)\n"
     ]
    },
    {
     "name": "stdout",
     "output_type": "stream",
     "text": [
      "score: 0.8408888888888889\n",
      "score: 0.848\n",
      "score: 0.8451111111111111\n",
      "english AG\n"
     ]
    },
    {
     "data": {
      "text/html": [
       "<div>\n",
       "<style scoped>\n",
       "    .dataframe tbody tr th:only-of-type {\n",
       "        vertical-align: middle;\n",
       "    }\n",
       "\n",
       "    .dataframe tbody tr th {\n",
       "        vertical-align: top;\n",
       "    }\n",
       "\n",
       "    .dataframe thead th {\n",
       "        text-align: right;\n",
       "    }\n",
       "</style>\n",
       "<table border=\"1\" class=\"dataframe\">\n",
       "  <thead>\n",
       "    <tr style=\"text-align: right;\">\n",
       "      <th></th>\n",
       "      <th></th>\n",
       "      <th>accuracy</th>\n",
       "      <th>f1</th>\n",
       "      <th>precision</th>\n",
       "      <th>recall</th>\n",
       "    </tr>\n",
       "  </thead>\n",
       "  <tbody>\n",
       "    <tr>\n",
       "      <th>MajorityBaseline</th>\n",
       "      <th>-</th>\n",
       "      <td>0.796</td>\n",
       "      <td>0.000000</td>\n",
       "      <td>0.000000</td>\n",
       "      <td>0.000000</td>\n",
       "    </tr>\n",
       "    <tr>\n",
       "      <th rowspan=\"2\" valign=\"top\">bayes</th>\n",
       "      <th>frequency</th>\n",
       "      <td>0.730</td>\n",
       "      <td>0.430380</td>\n",
       "      <td>0.377778</td>\n",
       "      <td>0.500000</td>\n",
       "    </tr>\n",
       "    <tr>\n",
       "      <th>presence</th>\n",
       "      <td>0.729</td>\n",
       "      <td>0.459082</td>\n",
       "      <td>0.387205</td>\n",
       "      <td>0.563725</td>\n",
       "    </tr>\n",
       "    <tr>\n",
       "      <th rowspan=\"2\" valign=\"top\">linear</th>\n",
       "      <th>frequency</th>\n",
       "      <td>0.804</td>\n",
       "      <td>0.257576</td>\n",
       "      <td>0.566667</td>\n",
       "      <td>0.166667</td>\n",
       "    </tr>\n",
       "    <tr>\n",
       "      <th>presence</th>\n",
       "      <td>0.800</td>\n",
       "      <td>0.280576</td>\n",
       "      <td>0.527027</td>\n",
       "      <td>0.191176</td>\n",
       "    </tr>\n",
       "    <tr>\n",
       "      <th rowspan=\"2\" valign=\"top\">svm</th>\n",
       "      <th>frequency</th>\n",
       "      <td>0.802</td>\n",
       "      <td>0.238462</td>\n",
       "      <td>0.553571</td>\n",
       "      <td>0.151961</td>\n",
       "    </tr>\n",
       "    <tr>\n",
       "      <th>presence</th>\n",
       "      <td>0.803</td>\n",
       "      <td>0.239382</td>\n",
       "      <td>0.563636</td>\n",
       "      <td>0.151961</td>\n",
       "    </tr>\n",
       "    <tr>\n",
       "      <th rowspan=\"2\" valign=\"top\">tree</th>\n",
       "      <th>frequency</th>\n",
       "      <td>0.745</td>\n",
       "      <td>0.316354</td>\n",
       "      <td>0.349112</td>\n",
       "      <td>0.289216</td>\n",
       "    </tr>\n",
       "    <tr>\n",
       "      <th>presence</th>\n",
       "      <td>0.744</td>\n",
       "      <td>0.340206</td>\n",
       "      <td>0.358696</td>\n",
       "      <td>0.323529</td>\n",
       "    </tr>\n",
       "  </tbody>\n",
       "</table>\n",
       "</div>"
      ],
      "text/plain": [
       "                            accuracy        f1  precision    recall\n",
       "MajorityBaseline -             0.796  0.000000   0.000000  0.000000\n",
       "bayes            frequency     0.730  0.430380   0.377778  0.500000\n",
       "                 presence      0.729  0.459082   0.387205  0.563725\n",
       "linear           frequency     0.804  0.257576   0.566667  0.166667\n",
       "                 presence      0.800  0.280576   0.527027  0.191176\n",
       "svm              frequency     0.802  0.238462   0.553571  0.151961\n",
       "                 presence      0.803  0.239382   0.563636  0.151961\n",
       "tree             frequency     0.745  0.316354   0.349112  0.289216\n",
       "                 presence      0.744  0.340206   0.358696  0.323529"
      ]
     },
     "metadata": {},
     "output_type": "display_data"
    }
   ],
   "source": [
    "task = 'AG'\n",
    "classifiers={'linear': lambda: sklearn.linear_model.LogisticRegression(),\n",
    "             'svm': lambda: sklearn.svm.SVC(gamma='scale'),\n",
    "             'tree': lambda: sklearn.tree.DecisionTreeClassifier(),\n",
    "             'bayes': lambda: sklearn.naive_bayes.GaussianNB()}\n",
    "vectorizers = {'frequency': lambda: nlp516.vectorizer.Unigram(100),\n",
    "               'presence': lambda: nlp516.vectorizer.UnigramPresence(100)}\n",
    "\n",
    "results = eval_models(classifiers=classifiers, vectorizers=vectorizers,\n",
    "                      task=task, dataset=dataset)\n",
    "print(language, task)\n",
    "display(results)"
   ]
  },
  {
   "cell_type": "code",
   "execution_count": 25,
   "metadata": {},
   "outputs": [
    {
     "name": "stderr",
     "output_type": "stream",
     "text": [
      "/home/marinodl/Documents/classes/nlp/project/hate-detector/env/lib/python3.5/site-packages/sklearn/linear_model/logistic.py:432: FutureWarning: Default solver will be changed to 'lbfgs' in 0.22. Specify a solver to silence this warning.\n",
      "  FutureWarning)\n"
     ]
    },
    {
     "name": "stdout",
     "output_type": "stream",
     "text": [
      "score: 0.881\n",
      "score: 0.8845555555555555\n",
      "score: 0.851\n"
     ]
    },
    {
     "name": "stderr",
     "output_type": "stream",
     "text": [
      "/home/marinodl/Documents/classes/nlp/project/hate-detector/env/lib/python3.5/site-packages/sklearn/metrics/classification.py:1143: UndefinedMetricWarning: Precision is ill-defined and being set to 0.0 due to no predicted samples.\n",
      "  'precision', 'predicted', average, warn_for)\n",
      "/home/marinodl/Documents/classes/nlp/project/hate-detector/env/lib/python3.5/site-packages/sklearn/metrics/classification.py:1143: UndefinedMetricWarning: F-score is ill-defined and being set to 0.0 due to no predicted samples.\n",
      "  'precision', 'predicted', average, warn_for)\n"
     ]
    },
    {
     "name": "stdout",
     "output_type": "stream",
     "text": [
      "score: 0.9708888888888889\n"
     ]
    },
    {
     "data": {
      "text/html": [
       "<div>\n",
       "<style scoped>\n",
       "    .dataframe tbody tr th:only-of-type {\n",
       "        vertical-align: middle;\n",
       "    }\n",
       "\n",
       "    .dataframe tbody tr th {\n",
       "        vertical-align: top;\n",
       "    }\n",
       "\n",
       "    .dataframe thead th {\n",
       "        text-align: right;\n",
       "    }\n",
       "</style>\n",
       "<table border=\"1\" class=\"dataframe\">\n",
       "  <thead>\n",
       "    <tr style=\"text-align: right;\">\n",
       "      <th></th>\n",
       "      <th></th>\n",
       "      <th>accuracy</th>\n",
       "      <th>f1</th>\n",
       "      <th>precision</th>\n",
       "      <th>recall</th>\n",
       "    </tr>\n",
       "  </thead>\n",
       "  <tbody>\n",
       "    <tr>\n",
       "      <th>MajorityBaseline</th>\n",
       "      <th>-</th>\n",
       "      <td>0.781</td>\n",
       "      <td>0.000000</td>\n",
       "      <td>0.000000</td>\n",
       "      <td>0.000000</td>\n",
       "    </tr>\n",
       "    <tr>\n",
       "      <th>linear</th>\n",
       "      <th>presence</th>\n",
       "      <td>0.835</td>\n",
       "      <td>0.510386</td>\n",
       "      <td>0.728814</td>\n",
       "      <td>0.392694</td>\n",
       "    </tr>\n",
       "    <tr>\n",
       "      <th>svm</th>\n",
       "      <th>presence</th>\n",
       "      <td>0.822</td>\n",
       "      <td>0.443750</td>\n",
       "      <td>0.702970</td>\n",
       "      <td>0.324201</td>\n",
       "    </tr>\n",
       "    <tr>\n",
       "      <th>tree</th>\n",
       "      <th>presence</th>\n",
       "      <td>0.810</td>\n",
       "      <td>0.494681</td>\n",
       "      <td>0.592357</td>\n",
       "      <td>0.424658</td>\n",
       "    </tr>\n",
       "  </tbody>\n",
       "</table>\n",
       "</div>"
      ],
      "text/plain": [
       "                           accuracy        f1  precision    recall\n",
       "MajorityBaseline -            0.781  0.000000   0.000000  0.000000\n",
       "linear           presence     0.835  0.510386   0.728814  0.392694\n",
       "svm              presence     0.822  0.443750   0.702970  0.324201\n",
       "tree             presence     0.810  0.494681   0.592357  0.424658"
      ]
     },
     "metadata": {},
     "output_type": "display_data"
    }
   ],
   "source": [
    "vectorizers = {'presence': lambda: nlp516.vectorizer.UnigramPresence(100)}\n",
    "results = eval_models(classifiers=classifiers, vectorizers=vectorizers,\n",
    "                      task='TR', dataset=dataset)\n",
    "display(results)"
   ]
  },
  {
   "cell_type": "code",
   "execution_count": null,
   "metadata": {},
   "outputs": [],
   "source": []
  },
  {
   "cell_type": "code",
   "execution_count": null,
   "metadata": {},
   "outputs": [],
   "source": []
  },
  {
   "cell_type": "code",
   "execution_count": null,
   "metadata": {},
   "outputs": [],
   "source": []
  },
  {
   "cell_type": "code",
   "execution_count": null,
   "metadata": {},
   "outputs": [],
   "source": []
  },
  {
   "cell_type": "code",
   "execution_count": null,
   "metadata": {},
   "outputs": [],
   "source": [
    " "
   ]
  }
 ],
 "metadata": {
  "kernelspec": {
   "display_name": "Python 3",
   "language": "python",
   "name": "python3"
  },
  "language_info": {
   "codemirror_mode": {
    "name": "ipython",
    "version": 3
   },
   "file_extension": ".py",
   "mimetype": "text/x-python",
   "name": "python",
   "nbconvert_exporter": "python",
   "pygments_lexer": "ipython3",
   "version": "3.5.2"
  }
 },
 "nbformat": 4,
 "nbformat_minor": 2
}
