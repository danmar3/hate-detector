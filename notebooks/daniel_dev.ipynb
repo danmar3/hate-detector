{
 "cells": [
  {
   "cell_type": "code",
   "execution_count": 5,
   "metadata": {},
   "outputs": [],
   "source": [
    "import re\n",
    "import nlp516\n",
    "import nltk\n",
    "import numpy as np\n",
    "import pandas as pd\n",
    "from sklearn.feature_extraction.text import CountVectorizer\n"
   ]
  },
  {
   "cell_type": "markdown",
   "metadata": {},
   "source": [
    "## Dataset"
   ]
  },
  {
   "cell_type": "code",
   "execution_count": 6,
   "metadata": {},
   "outputs": [],
   "source": [
    "dataset = nlp516.data.PublicTrialRaw()"
   ]
  },
  {
   "cell_type": "code",
   "execution_count": 7,
   "metadata": {},
   "outputs": [
    {
     "name": "stdout",
     "output_type": "stream",
     "text": [
      "Original: @ArianasBotch Ok if you fucking said leave block me. But dm me first I'm gonna kick your ass. Shut the fuck up you https://t.co/6BXkfxMEf9\n"
     ]
    },
    {
     "ename": "NameError",
     "evalue": "name 'en' is not defined",
     "output_type": "error",
     "traceback": [
      "\u001b[1;31m---------------------------------------------------------------------------\u001b[0m",
      "\u001b[1;31mNameError\u001b[0m                                 Traceback (most recent call last)",
      "\u001b[1;32m<ipython-input-7-9c73ebc42baf>\u001b[0m in \u001b[0;36m<module>\u001b[1;34m()\u001b[0m\n\u001b[0;32m      1\u001b[0m \u001b[0mprint\u001b[0m\u001b[1;33m(\u001b[0m\u001b[1;34m'Original: {}'\u001b[0m\u001b[1;33m.\u001b[0m\u001b[0mformat\u001b[0m\u001b[1;33m(\u001b[0m\u001b[0mdataset\u001b[0m\u001b[1;33m.\u001b[0m\u001b[0men\u001b[0m\u001b[1;33m.\u001b[0m\u001b[0miloc\u001b[0m\u001b[1;33m[\u001b[0m\u001b[1;36m1\u001b[0m\u001b[1;33m]\u001b[0m\u001b[1;33m.\u001b[0m\u001b[0mtext\u001b[0m\u001b[1;33m)\u001b[0m\u001b[1;33m)\u001b[0m\u001b[1;33m\u001b[0m\u001b[0m\n\u001b[1;32m----> 2\u001b[1;33m \u001b[0mprint\u001b[0m\u001b[1;33m(\u001b[0m\u001b[1;34m'Tokens: {}'\u001b[0m\u001b[1;33m.\u001b[0m\u001b[0mformat\u001b[0m\u001b[1;33m(\u001b[0m\u001b[0men\u001b[0m\u001b[1;33m.\u001b[0m\u001b[0miloc\u001b[0m\u001b[1;33m[\u001b[0m\u001b[1;36m1\u001b[0m\u001b[1;33m]\u001b[0m\u001b[1;33m.\u001b[0m\u001b[0mtext\u001b[0m\u001b[1;33m)\u001b[0m\u001b[1;33m)\u001b[0m\u001b[1;33m\u001b[0m\u001b[0m\n\u001b[0m",
      "\u001b[1;31mNameError\u001b[0m: name 'en' is not defined"
     ]
    }
   ],
   "source": [
    "print('Original: {}'.format(dataset.en.iloc[1].text))\n",
    "print('Tokens: {}'.format(en.iloc[1].text))"
   ]
  },
  {
   "cell_type": "code",
   "execution_count": null,
   "metadata": {},
   "outputs": [],
   "source": []
  },
  {
   "cell_type": "code",
   "execution_count": 3,
   "metadata": {},
   "outputs": [],
   "source": [
    "tokenizer_map = nlp516.data.Tokenizer('english')\n",
    "stopwords_map = nlp516.data.RemoveStopWords('english')\n",
    "stemmer_map = nlp516.data.Stemmer('english')\n",
    "\n",
    "\n",
    "en = nlp516.data.map_column(dataset.en, 'text', nlp516.data.remove_urls_map)\n",
    "#en = nlp516.data.map_column(dataset.en, 'text', nlp516.data.casual_tokenize_map)\n",
    "en = nlp516.data.map_column(en, 'text', tokenizer_map)\n",
    "en = nlp516.data.map_column(en, 'text', nlp516.data.user_camelcase_map)\n",
    "en = nlp516.data.map_column(en, 'text', nlp516.data.hashtag_camelcase_map)\n",
    "en = nlp516.data.map_column(en, 'text', nlp516.data.to_lowercase)\n",
    "en = nlp516.data.map_column(en, 'text', stopwords_map)\n",
    "en = nlp516.data.map_column(en, 'text', stemmer_map)\n",
    "en = nlp516.data.map_column(en, 'text', nlp516.data.remove_words_with_numbers)\n"
   ]
  },
  {
   "cell_type": "markdown",
   "metadata": {},
   "source": [
    "# Preprocessing"
   ]
  },
  {
   "cell_type": "code",
   "execution_count": 1,
   "metadata": {},
   "outputs": [
    {
     "ename": "NameError",
     "evalue": "name 'dataset' is not defined",
     "output_type": "error",
     "traceback": [
      "\u001b[1;31m---------------------------------------------------------------------------\u001b[0m",
      "\u001b[1;31mNameError\u001b[0m                                 Traceback (most recent call last)",
      "\u001b[1;32m<ipython-input-1-bbfe08232ef8>\u001b[0m in \u001b[0;36m<module>\u001b[1;34m()\u001b[0m\n\u001b[1;32m----> 1\u001b[1;33m \u001b[0mprint\u001b[0m\u001b[1;33m(\u001b[0m\u001b[1;34m'Original: {}'\u001b[0m\u001b[1;33m.\u001b[0m\u001b[0mformat\u001b[0m\u001b[1;33m(\u001b[0m\u001b[0mdataset\u001b[0m\u001b[1;33m.\u001b[0m\u001b[0men\u001b[0m\u001b[1;33m.\u001b[0m\u001b[0miloc\u001b[0m\u001b[1;33m[\u001b[0m\u001b[1;36m25\u001b[0m\u001b[1;33m]\u001b[0m\u001b[1;33m.\u001b[0m\u001b[0mtext\u001b[0m\u001b[1;33m)\u001b[0m\u001b[1;33m)\u001b[0m\u001b[1;33m\u001b[0m\u001b[0m\n\u001b[0m\u001b[0;32m      2\u001b[0m \u001b[0mprint\u001b[0m\u001b[1;33m(\u001b[0m\u001b[1;34m'Tokens: {}'\u001b[0m\u001b[1;33m.\u001b[0m\u001b[0mformat\u001b[0m\u001b[1;33m(\u001b[0m\u001b[0men\u001b[0m\u001b[1;33m.\u001b[0m\u001b[0miloc\u001b[0m\u001b[1;33m[\u001b[0m\u001b[1;36m25\u001b[0m\u001b[1;33m]\u001b[0m\u001b[1;33m.\u001b[0m\u001b[0mtext\u001b[0m\u001b[1;33m)\u001b[0m\u001b[1;33m)\u001b[0m\u001b[1;33m\u001b[0m\u001b[0m\n",
      "\u001b[1;31mNameError\u001b[0m: name 'dataset' is not defined"
     ]
    }
   ],
   "source": [
    "print('Original: {}'.format(dataset.en.iloc[25].text))\n",
    "print('Tokens: {}'.format(en.iloc[25].text))"
   ]
  },
  {
   "cell_type": "code",
   "execution_count": null,
   "metadata": {},
   "outputs": [],
   "source": [
    "print('Original: {}'.format(dataset.en.iloc[26].text))\n",
    "print('Tokens: {}'.format(en.iloc[26].text))"
   ]
  },
  {
   "cell_type": "markdown",
   "metadata": {},
   "source": [
    "## Feature representation"
   ]
  },
  {
   "cell_type": "code",
   "execution_count": 7,
   "metadata": {},
   "outputs": [],
   "source": [
    "class Vectorizer(object):\n",
    "    def __init__(self, n_features):\n",
    "        self.n_features = n_features\n",
    "        \n",
    "    def id2word(self, id):\n",
    "        vocabulary_inv = {value:key for key, value in self.vectorizer.vocabulary_.items()}\n",
    "        return vocabulary_inv[id]\n",
    "\n",
    "    def fit(self, data):\n",
    "        self.train = data\n",
    "        self.vectorizer = CountVectorizer()\n",
    "        self.x = self.vectorizer.fit_transform(data)\n",
    "        #count = {id: c for c in self.x.toarray().sum(0)}\n",
    "        self.feature_id = list(filter(lambda n: np.sum(self.x.toarray(), axis=0)[n]>2, range(self.x.shape[-1])))\n",
    "        \n",
    "        \n",
    "    def transform(self, data):\n",
    "        x = self.vectorizer.transform(data)\n",
    "        return x[:, self.feature_id]\n",
    "        \n",
    "\n"
   ]
  },
  {
   "cell_type": "markdown",
   "metadata": {},
   "source": [
    "## Train"
   ]
  },
  {
   "cell_type": "code",
   "execution_count": 85,
   "metadata": {},
   "outputs": [],
   "source": [
    "import sklearn.linear_model"
   ]
  },
  {
   "cell_type": "code",
   "execution_count": 101,
   "metadata": {},
   "outputs": [],
   "source": [
    "def random_shuffle(data):\n",
    "    idx = np.arange(en.shape[0])\n",
    "    shuffle = np.random.shuffle(idx)\n",
    "    return data.iloc[idx, :]\n",
    "dataset = random_shuffle(en)\n",
    "train = dataset[:50]\n",
    "test = dataset[50:]"
   ]
  },
  {
   "cell_type": "code",
   "execution_count": 102,
   "metadata": {},
   "outputs": [],
   "source": [
    "class MlModel(object):\n",
    "    @staticmethod\n",
    "    def get_corpus(dataset):\n",
    "        return [' '.join(sample) for sample in dataset]\n",
    "    \n",
    "    def _fit_vectorizer(self, x):\n",
    "        corpus = self.get_corpus(x)\n",
    "        self.vectorizer = Vectorizer(50)\n",
    "        self.vectorizer.fit(corpus)\n",
    "        \n",
    "    \n",
    "    def _fit_model(self, x, y):\n",
    "        corpus = self.get_corpus(x)\n",
    "        train_x = self.vectorizer.transform(corpus)\n",
    "        train_y = y\n",
    "        self.model = sklearn.linear_model.LogisticRegression().fit(train_x, train_y)\n",
    "        \n",
    "    def fit(self, x, y):\n",
    "        self._fit_vectorizer(x)\n",
    "        self._fit_model(x, y)\n",
    "        print('score: {}'.format(self.score(x, y)))\n",
    "    \n",
    "    def predict(self, x):\n",
    "        corpus = self.get_corpus(x)\n",
    "        test_x = self.vectorizer.transform(corpus)\n",
    "        return self.model.predict(test_x)\n",
    "    \n",
    "    def score(self, x, y):\n",
    "        corpus = self.get_corpus(x)\n",
    "        test_x = self.vectorizer.transform(corpus)\n",
    "        test_y = self.model.predict(test_x)\n",
    "        return np.mean(test_y == y)"
   ]
  },
  {
   "cell_type": "code",
   "execution_count": 103,
   "metadata": {},
   "outputs": [
    {
     "name": "stdout",
     "output_type": "stream",
     "text": [
      "score: 0.88\n",
      "test: 0.7\n"
     ]
    }
   ],
   "source": [
    "model = MlModel()\n",
    "model.fit(train.text, train.HS)\n",
    "print('test: {}'.format(model.score(test.text, test.HS)))"
   ]
  },
  {
   "cell_type": "code",
   "execution_count": 104,
   "metadata": {},
   "outputs": [
    {
     "name": "stdout",
     "output_type": "stream",
     "text": [
      "score: 0.86\n",
      "test: 0.94\n"
     ]
    }
   ],
   "source": [
    "model = MlModel()\n",
    "model.fit(train.text, train.TR)\n",
    "print('test: {}'.format(model.score(test.text, test.TR)))"
   ]
  },
  {
   "cell_type": "code",
   "execution_count": 105,
   "metadata": {},
   "outputs": [
    {
     "name": "stdout",
     "output_type": "stream",
     "text": [
      "score: 0.86\n",
      "test: 0.84\n"
     ]
    }
   ],
   "source": [
    "model = MlModel()\n",
    "model.fit(train.text, train.AG)\n",
    "print('test: {}'.format(model.score(test.text, test.AG)))"
   ]
  },
  {
   "cell_type": "code",
   "execution_count": 84,
   "metadata": {},
   "outputs": [],
   "source": [
    "#[model.vectorizer.id2word(id) for id in model.vectorizer.feature_id]"
   ]
  },
  {
   "cell_type": "code",
   "execution_count": null,
   "metadata": {},
   "outputs": [],
   "source": []
  },
  {
   "cell_type": "code",
   "execution_count": null,
   "metadata": {},
   "outputs": [],
   "source": []
  },
  {
   "cell_type": "code",
   "execution_count": null,
   "metadata": {},
   "outputs": [],
   "source": []
  },
  {
   "cell_type": "code",
   "execution_count": null,
   "metadata": {},
   "outputs": [],
   "source": []
  },
  {
   "cell_type": "code",
   "execution_count": null,
   "metadata": {},
   "outputs": [],
   "source": []
  },
  {
   "cell_type": "code",
   "execution_count": null,
   "metadata": {},
   "outputs": [],
   "source": []
  },
  {
   "cell_type": "code",
   "execution_count": null,
   "metadata": {},
   "outputs": [],
   "source": []
  }
 ],
 "metadata": {
  "kernelspec": {
   "display_name": "Python 3",
   "language": "python",
   "name": "python3"
  },
  "language_info": {
   "codemirror_mode": {
    "name": "ipython",
    "version": 3
   },
   "file_extension": ".py",
   "mimetype": "text/x-python",
   "name": "python",
   "nbconvert_exporter": "python",
   "pygments_lexer": "ipython3",
   "version": "3.6.4"
  }
 },
 "nbformat": 4,
 "nbformat_minor": 2
}
